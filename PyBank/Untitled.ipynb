{
 "cells": [
  {
   "cell_type": "code",
   "execution_count": 37,
   "id": "b853e583-5197-430e-9a74-dc52b9e686a2",
   "metadata": {},
   "outputs": [
    {
     "name": "stdout",
     "output_type": "stream",
     "text": [
      "Financial Analysis\n",
      "-----------------------------------\n",
      "Total Months:86\n",
      "Total Profits: $38382578\n",
      "Average Change: $616074.4823529412  \n",
      "Greatest Increase in Profits: 1196225.0  ($1170593.0)\n",
      "Greatest Decrease in Profits: 60988.0 ($-1196225.0)\n"
     ]
    }
   ],
   "source": [
    "import pandas as pd\n",
    "from pathlib import Path\n",
    "#Your task is to create a Python script that analyzes the records to calculate each of the following:\n",
    "#gip= Greatest Increase in ProfitsDecrease in Profits\"\n",
    "#gdp = Greatest decrease in profits\n",
    "#Extract data\n",
    "df = pd.read_csv('pybank.csv')\n",
    "#The total number of months included in the dataset.\n",
    "#use len for months the company records. ie\n",
    "total_months = df[\"Date\"].count()\n",
    "#The net total amount of Profit/Losses over the entire period.\n",
    "total_profits= df[\"Profit/Losses\"].sum()\n",
    "#print(total_profits)\n",
    "#The average of the changes in Profit/Losses over the entire period.\n",
    "#average = df[\"Profit/Losses\"].mean()\n",
    "#df['Profit/Losses'] = df['Profit/Losses'].shift()\n",
    "#df['difference'] = (df['Profit/Losses'].shift() - df['Profit/Losses'].shift(1)\n",
    "#df['difference'] = df['Profit/Losses'].abs()\n",
    "#average = df['difference'].mean()\n",
    "#gip_date = df['difference'].max()\n",
    "#gdp_date = df['difference'].min()\n",
    "\n",
    "#The greatest increase in profits (date and amount) over the entire period.\n",
    "#gip_date = df[\"Profit/Losses\"].max()\n",
    "#gip_date= df['difference'].mean()\n",
    "#GreatestIncrease = df[${:.0f}'.format(Bank_pd[\"Amount Changed\"].max())\n",
    "#gdp_date = df[\"Date\"].min()\n",
    "#The greatest decrease in losses (date and amount) over the entire period.\n",
    "#gdp = df[\"Profit/Losses\"]. min ()\n",
    "print(\"Financial Analysis\")\n",
    "print(\"-----------------------------------\")\n",
    "print(f\"Total Months:{total_months}\")\n",
    "print(f\"Total Profits: ${total_profits}\")\n",
    "print(f\"Average Change: ${average}  \")\n",
    "print(f\"Greatest Increase in Profits: {gip_date}  (${gip})\")\n",
    "print(f\"Greatest Decrease in Profits: {gdp_date} (${gdp})\")"
   ]
  },
  {
   "cell_type": "code",
   "execution_count": 38,
   "id": "802a147c-52e1-46ad-89cc-86147df73bfb",
   "metadata": {},
   "outputs": [
    {
     "name": "stdout",
     "output_type": "stream",
     "text": [
      "        Date  Profit/Losses\n",
      "0   Jan-2010         867884\n",
      "1   Feb-2010         984655\n",
      "2   Mar-2010         322013\n",
      "3   Apr-2010         -69417\n",
      "4   May-2010         310503\n",
      "..       ...            ...\n",
      "81  Oct-2016         102685\n",
      "82  Nov-2016         795914\n",
      "83  Dec-2016          60988\n",
      "84  Jan-2017         138230\n",
      "85  Feb-2017         671099\n",
      "\n",
      "[86 rows x 2 columns]\n"
     ]
    }
   ],
   "source": [
    " print(df)"
   ]
  },
  {
   "cell_type": "code",
   "execution_count": null,
   "id": "f17063fb-7368-4c8c-897c-5555d0f6fd60",
   "metadata": {},
   "outputs": [],
   "source": [
    "df.loc['diffence']"
   ]
  },
  {
   "cell_type": "code",
   "execution_count": null,
   "id": "d3d64f25-bd10-4259-8632-941d05a5e311",
   "metadata": {},
   "outputs": [],
   "source": []
  },
  {
   "cell_type": "code",
   "execution_count": null,
   "id": "33581e45-2a3d-42c8-8877-d0ab4d9c1afe",
   "metadata": {},
   "outputs": [],
   "source": []
  }
 ],
 "metadata": {
  "kernelspec": {
   "display_name": "Python 3",
   "language": "python",
   "name": "python3"
  },
  "language_info": {
   "codemirror_mode": {
    "name": "ipython",
    "version": 3
   },
   "file_extension": ".py",
   "mimetype": "text/x-python",
   "name": "python",
   "nbconvert_exporter": "python",
   "pygments_lexer": "ipython3",
   "version": "3.8.8"
  }
 },
 "nbformat": 4,
 "nbformat_minor": 5
}
