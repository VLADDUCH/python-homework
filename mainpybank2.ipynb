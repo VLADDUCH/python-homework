{
 "cells": [
  {
   "cell_type": "code",
   "execution_count": 57,
   "id": "85dcbe36-cbec-40ce-a2ad-761c4802c7e0",
   "metadata": {},
   "outputs": [],
   "source": [
    "import pandas as pd\n",
    "from pathlib import Path"
   ]
  },
  {
   "cell_type": "code",
   "execution_count": 58,
   "id": "08112afe-fcc3-4f70-81c9-fcc842ca0d9f",
   "metadata": {},
   "outputs": [
    {
     "data": {
      "text/html": [
       "<div>\n",
       "<style scoped>\n",
       "    .dataframe tbody tr th:only-of-type {\n",
       "        vertical-align: middle;\n",
       "    }\n",
       "\n",
       "    .dataframe tbody tr th {\n",
       "        vertical-align: top;\n",
       "    }\n",
       "\n",
       "    .dataframe thead th {\n",
       "        text-align: right;\n",
       "    }\n",
       "</style>\n",
       "<table border=\"1\" class=\"dataframe\">\n",
       "  <thead>\n",
       "    <tr style=\"text-align: right;\">\n",
       "      <th></th>\n",
       "      <th>Profit/Losses</th>\n",
       "    </tr>\n",
       "    <tr>\n",
       "      <th>Date</th>\n",
       "      <th></th>\n",
       "    </tr>\n",
       "  </thead>\n",
       "  <tbody>\n",
       "    <tr>\n",
       "      <th>Jan-2010</th>\n",
       "      <td>867884</td>\n",
       "    </tr>\n",
       "    <tr>\n",
       "      <th>Feb-2010</th>\n",
       "      <td>984655</td>\n",
       "    </tr>\n",
       "    <tr>\n",
       "      <th>Mar-2010</th>\n",
       "      <td>322013</td>\n",
       "    </tr>\n",
       "    <tr>\n",
       "      <th>Apr-2010</th>\n",
       "      <td>-69417</td>\n",
       "    </tr>\n",
       "    <tr>\n",
       "      <th>May-2010</th>\n",
       "      <td>310503</td>\n",
       "    </tr>\n",
       "    <tr>\n",
       "      <th>...</th>\n",
       "      <td>...</td>\n",
       "    </tr>\n",
       "    <tr>\n",
       "      <th>Oct-2016</th>\n",
       "      <td>102685</td>\n",
       "    </tr>\n",
       "    <tr>\n",
       "      <th>Nov-2016</th>\n",
       "      <td>795914</td>\n",
       "    </tr>\n",
       "    <tr>\n",
       "      <th>Dec-2016</th>\n",
       "      <td>60988</td>\n",
       "    </tr>\n",
       "    <tr>\n",
       "      <th>Jan-2017</th>\n",
       "      <td>138230</td>\n",
       "    </tr>\n",
       "    <tr>\n",
       "      <th>Feb-2017</th>\n",
       "      <td>671099</td>\n",
       "    </tr>\n",
       "  </tbody>\n",
       "</table>\n",
       "<p>86 rows × 1 columns</p>\n",
       "</div>"
      ],
      "text/plain": [
       "          Profit/Losses\n",
       "Date                   \n",
       "Jan-2010         867884\n",
       "Feb-2010         984655\n",
       "Mar-2010         322013\n",
       "Apr-2010         -69417\n",
       "May-2010         310503\n",
       "...                 ...\n",
       "Oct-2016         102685\n",
       "Nov-2016         795914\n",
       "Dec-2016          60988\n",
       "Jan-2017         138230\n",
       "Feb-2017         671099\n",
       "\n",
       "[86 rows x 1 columns]"
      ]
     },
     "execution_count": 58,
     "metadata": {},
     "output_type": "execute_result"
    }
   ],
   "source": [
    "df = pd.read_csv('pybank.csv')\n",
    "df.set_index('Date', inplace = True)\n",
    "df"
   ]
  },
  {
   "cell_type": "code",
   "execution_count": 63,
   "id": "4a04798d-a630-403e-b98d-6af546ec85ef",
   "metadata": {},
   "outputs": [],
   "source": [
    "#Your task is to create a Python script that analyzes the records to calculate each of the following:\n",
    "#The total number of months included in the dataset.\n",
    "total_months = df[\"Profit/Losses\"].count()"
   ]
  },
  {
   "cell_type": "code",
   "execution_count": 64,
   "id": "d4e86630-03f5-4010-bc7f-6b797ea56fc4",
   "metadata": {},
   "outputs": [],
   "source": [
    "#The net total amount of Profit/Losses over the entire period.\n",
    "total_profits = df['Profit/Losses'].sum()"
   ]
  },
  {
   "cell_type": "code",
   "execution_count": 65,
   "id": "e518b885-8293-4533-ae0b-58cbbd6c41c7",
   "metadata": {},
   "outputs": [],
   "source": [
    "#The average of the changes in Profit/Losses over the entire period.\n",
    "df['shifted_column'] = df['Profit/Losses'].shift(1)\n",
    "df['diffence'] = df['Profit/Losses'] - df['shifted_column']\n",
    "average = df['diffence'].mean()"
   ]
  },
  {
   "cell_type": "code",
   "execution_count": 66,
   "id": "448bd5e4-7f85-4019-bf68-c906ba0c973b",
   "metadata": {},
   "outputs": [],
   "source": [
    "#The greatest increase in profits (date and amount) over the entire period.\n",
    "gip = df['diffence'].max()\n",
    "gip_date = df['diffence'].idxmax()"
   ]
  },
  {
   "cell_type": "code",
   "execution_count": 70,
   "id": "116b9d35-6e7d-49b3-886a-2b47fa58ab0e",
   "metadata": {},
   "outputs": [],
   "source": [
    "#The greatest decrease in losses (date and amount) over the entire period.\n",
    "gdp = df['diffence'].min()\n",
    "gdp_date = df['diffence'].idxmin()"
   ]
  },
  {
   "cell_type": "code",
   "execution_count": 72,
   "id": "c4e670ab-9f26-48e1-9315-8370c69863fc",
   "metadata": {},
   "outputs": [
    {
     "name": "stdout",
     "output_type": "stream",
     "text": [
      "Financial Analysis\n",
      "-----------------------------------\n",
      "Total Months:86\n",
      "Total Profits: $38382578\n",
      "Average Change: $-2315.1176470588234  \n",
      "Greatest Increase in Profits: Feb-2012  ($1926159.0)\n",
      "Greatest Decrease in Profits: Sep-2013 ($-2196167.0)\n"
     ]
    }
   ],
   "source": [
    "print(\"Financial Analysis\")\n",
    "print(\"-----------------------------------\")\n",
    "print(f\"Total Months:{total_months}\")\n",
    "print(f\"Total Profits: ${total_profits}\")\n",
    "print(f\"Average Change: ${average}  \")\n",
    "print(f\"Greatest Increase in Profits: {gip_date}  (${gip})\")\n",
    "print(f\"Greatest Decrease in Profits: {gdp_date} (${gdp})\")\n",
    "\n",
    "\n"
   ]
  },
  {
   "cell_type": "code",
   "execution_count": null,
   "id": "c6b4fd54-5308-483b-aa44-f26bb5b89d7d",
   "metadata": {},
   "outputs": [],
   "source": []
  },
  {
   "cell_type": "code",
   "execution_count": null,
   "id": "f769ac1e-54f8-4217-bee5-524e566b549a",
   "metadata": {},
   "outputs": [],
   "source": [
    "\n"
   ]
  },
  {
   "cell_type": "code",
   "execution_count": null,
   "id": "8f886a43-b370-41ed-ba01-9c76506e0cf2",
   "metadata": {},
   "outputs": [],
   "source": []
  }
 ],
 "metadata": {
  "kernelspec": {
   "display_name": "Python 3",
   "language": "python",
   "name": "python3"
  },
  "language_info": {
   "codemirror_mode": {
    "name": "ipython",
    "version": 3
   },
   "file_extension": ".py",
   "mimetype": "text/x-python",
   "name": "python",
   "nbconvert_exporter": "python",
   "pygments_lexer": "ipython3",
   "version": "3.8.8"
  }
 },
 "nbformat": 4,
 "nbformat_minor": 5
}
